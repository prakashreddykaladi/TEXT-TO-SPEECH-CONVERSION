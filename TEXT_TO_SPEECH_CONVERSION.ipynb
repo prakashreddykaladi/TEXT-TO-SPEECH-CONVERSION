{
  "nbformat": 4,
  "nbformat_minor": 0,
  "metadata": {
    "colab": {
      "provenance": []
    },
    "kernelspec": {
      "name": "python3",
      "display_name": "Python 3"
    },
    "language_info": {
      "name": "python"
    }
  },
  "cells": [
    {
      "cell_type": "code",
      "source": [
        "!pip install gtts"
      ],
      "metadata": {
        "colab": {
          "base_uri": "https://localhost:8080/"
        },
        "id": "6GzUdqEw7d63",
        "outputId": "59a6eb8e-1222-4dfa-b00f-3daca300db6b"
      },
      "execution_count": 2,
      "outputs": [
        {
          "output_type": "stream",
          "name": "stdout",
          "text": [
            "Collecting gtts\n",
            "  Downloading gTTS-2.5.1-py3-none-any.whl (29 kB)\n",
            "Requirement already satisfied: requests<3,>=2.27 in /usr/local/lib/python3.10/dist-packages (from gtts) (2.31.0)\n",
            "Requirement already satisfied: click<8.2,>=7.1 in /usr/local/lib/python3.10/dist-packages (from gtts) (8.1.7)\n",
            "Requirement already satisfied: charset-normalizer<4,>=2 in /usr/local/lib/python3.10/dist-packages (from requests<3,>=2.27->gtts) (3.3.2)\n",
            "Requirement already satisfied: idna<4,>=2.5 in /usr/local/lib/python3.10/dist-packages (from requests<3,>=2.27->gtts) (3.7)\n",
            "Requirement already satisfied: urllib3<3,>=1.21.1 in /usr/local/lib/python3.10/dist-packages (from requests<3,>=2.27->gtts) (2.0.7)\n",
            "Requirement already satisfied: certifi>=2017.4.17 in /usr/local/lib/python3.10/dist-packages (from requests<3,>=2.27->gtts) (2024.2.2)\n",
            "Installing collected packages: gtts\n",
            "Successfully installed gtts-2.5.1\n"
          ]
        }
      ]
    },
    {
      "cell_type": "code",
      "source": [
        "# Import the required module for text to speech conversion\n",
        "from gtts import gTTS\n",
        "\n",
        "# Import IPython.display for displaying audio\n",
        "from IPython.display import Audio\n",
        "\n",
        "# The text that you want to convert to audio\n",
        "mytext = 'Welcome to your project !'\n",
        "\n",
        "# Language in which you want to convert\n",
        "language = 'en'\n",
        "\n",
        "# Passing the text and language to the engine,\n",
        "# here we have marked slow=False. Which tells\n",
        "# the module that the converted audio should\n",
        "# have a high speed\n",
        "myobj = gTTS(text=mytext, lang=language, slow=False)\n",
        "\n",
        "# Saving the converted audio in a mp3 file named\n",
        "# welcome\n",
        "myobj.save(\"welcome.mp3\")\n",
        "\n",
        "# Display and play the audio\n",
        "Audio(filename=\"welcome.mp3\")"
      ],
      "metadata": {
        "colab": {
          "base_uri": "https://localhost:8080/",
          "height": 75
        },
        "id": "iopSf4r18RRV",
        "outputId": "c9a38640-579f-43d0-b2f6-308f28d96571"
      },
      "execution_count": 10,
      "outputs": [
        {
          "output_type": "execute_result",
          "data": {
            "text/plain": [
              "<IPython.lib.display.Audio object>"
            ],
            "text/html": [
              "\n",
              "                <audio  controls=\"controls\" >\n",
              "                    <source src=\"data:audio/mpeg;base64,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\" type=\"audio/mpeg\" />\n",
              "                    Your browser does not support the audio element.\n",
              "                </audio>\n",
              "              "
            ]
          },
          "metadata": {},
          "execution_count": 10
        }
      ]
    }
  ]
}